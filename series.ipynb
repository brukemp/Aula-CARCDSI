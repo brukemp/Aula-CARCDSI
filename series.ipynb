{
  "nbformat": 4,
  "nbformat_minor": 0,
  "metadata": {
    "colab": {
      "provenance": [],
      "authorship_tag": "ABX9TyOwdJwH1L9bM4QaYp8khGaM",
      "include_colab_link": true
    },
    "kernelspec": {
      "name": "python3",
      "display_name": "Python 3"
    },
    "language_info": {
      "name": "python"
    }
  },
  "cells": [
    {
      "cell_type": "markdown",
      "metadata": {
        "id": "view-in-github",
        "colab_type": "text"
      },
      "source": [
        "<a href=\"https://colab.research.google.com/github/brukemp/Aula-CARCDSI/blob/main/series.ipynb\" target=\"_parent\"><img src=\"https://colab.research.google.com/assets/colab-badge.svg\" alt=\"Open In Colab\"/></a>"
      ]
    },
    {
      "cell_type": "code",
      "execution_count": null,
      "metadata": {
        "id": "1lpIxrKbc-Ec"
      },
      "outputs": [],
      "source": [
        "import pandas as pd"
      ]
    },
    {
      "cell_type": "code",
      "source": [
        "# Cria a Series notas\n",
        "grades = pd.Series([7.6, 5.0, 8.5, 9.5, 6.4])\n",
        "\n",
        "# Cria a Series alunos\n",
        "lst_registration = ['M02', 'M05', 'M13', 'M14', 'M19']\n",
        "lst_names = ['Bob', 'Dayse', 'Bill', 'Cris', 'Jimi']\n",
        "students = pd.Series(lst_names, index=lst_registration)\n",
        "\n",
        "print(grades)\n",
        "print(\"-----------------\")\n",
        "print(students)\n"
      ],
      "metadata": {
        "colab": {
          "base_uri": "https://localhost:8080/"
        },
        "id": "3XfrUC3SeFRx",
        "outputId": "0d1b815e-a833-43ea-c915-a656367bd2c8"
      },
      "execution_count": null,
      "outputs": [
        {
          "output_type": "stream",
          "name": "stdout",
          "text": [
            "0    7.6\n",
            "1    5.0\n",
            "2    8.5\n",
            "3    9.5\n",
            "4    6.4\n",
            "dtype: float64\n",
            "-----------------\n",
            "M02      Bob\n",
            "M05    Dayse\n",
            "M13     Bill\n",
            "M14     Cris\n",
            "M19     Jimi\n",
            "dtype: object\n"
          ]
        }
      ]
    },
    {
      "cell_type": "code",
      "source": [
        "# outra forma de criação de Series - a partir de um dicionário\n",
        "dic_students = {'M02': 'Bob', 'M05': 'Dayse', 'M13': 'Bill', 'M14': 'Cris', 'M19': 'Jimi'}\n",
        "students2 = pd.Series(dic_students)\n",
        "print(students2)"
      ],
      "metadata": {
        "colab": {
          "base_uri": "https://localhost:8080/"
        },
        "id": "oF92wiMtgWGc",
        "outputId": "0f7ea222-3c8d-47c2-d440-2eb1e7934056"
      },
      "execution_count": null,
      "outputs": [
        {
          "output_type": "stream",
          "name": "stdout",
          "text": [
            "M02      Bob\n",
            "M05    Dayse\n",
            "M13     Bill\n",
            "M14     Cris\n",
            "M19     Jimi\n",
            "dtype: object\n"
          ]
        }
      ]
    },
    {
      "cell_type": "code",
      "source": [
        "# Propriedades básicas das Series\n",
        "students = pd.Series({'M02': 'Bob', 'M05': 'Dayse', 'M13': 'Bill', 'M14': 'Cris', 'M19': 'Jimi'})\n",
        "\n",
        "# Atribui nomes para os vetores de dados e rótulos (índice)\n",
        "students.name = \"alunos\"\n",
        "students.index.name = \"matriculas\"\n",
        "\n",
        "print(students)\n",
        "\n",
        "size = students.size\n",
        "data = students.values\n",
        "labels = students.index\n",
        "students_type = type(students)\n",
        "students_dtype = students.dtype\n",
        "students_idx_dtype = students.index.dtype\n",
        "\n",
        "print('número de elementos: ', size)\n",
        "print('vetor de dados: ', data)\n",
        "print('vetor de rótulos: ', labels)\n",
        "print('tipo (type): ', students_type)\n",
        "print('dtype das Series: ', students_dtype)\n",
        "print('dtype do vetor de dados: ', students_idx_dtype)"
      ],
      "metadata": {
        "colab": {
          "base_uri": "https://localhost:8080/"
        },
        "id": "iAAaTuJ1hW9e",
        "outputId": "e1519710-c99f-44c4-b5b4-6e558f5f2a48"
      },
      "execution_count": null,
      "outputs": [
        {
          "output_type": "stream",
          "name": "stdout",
          "text": [
            "matriculas\n",
            "M02      Bob\n",
            "M05    Dayse\n",
            "M13     Bill\n",
            "M14     Cris\n",
            "M19     Jimi\n",
            "Name: alunos, dtype: object\n",
            "número de elementos:  5\n",
            "vetor de dados:  ['Bob' 'Dayse' 'Bill' 'Cris' 'Jimi']\n",
            "vetor de rótulos:  Index(['M02', 'M05', 'M13', 'M14', 'M19'], dtype='object', name='matriculas')\n",
            "tipo (type):  <class 'pandas.core.series.Series'>\n",
            "dtype das Series:  object\n",
            "dtype do vetor de dados:  object\n"
          ]
        }
      ]
    },
    {
      "cell_type": "code",
      "source": [
        "# indexação booleano\n",
        "\n",
        "# obtêm os índices dos alunos aprovados\n",
        "idx_approved = grades[grades >= 7].index\n",
        "\n",
        "# imprime os alunos aprovados\n",
        "print('Relação de alunos aprovados:')\n",
        "print('----------------------------')\n",
        "# print(students[idx_approved])\n",
        "print(students.iloc[idx_approved])\n"
      ],
      "metadata": {
        "colab": {
          "base_uri": "https://localhost:8080/"
        },
        "id": "oFVqUgXykquZ",
        "outputId": "45abfd85-88f4-4634-855c-d025590412d7"
      },
      "execution_count": null,
      "outputs": [
        {
          "output_type": "stream",
          "name": "stdout",
          "text": [
            "Relação de alunos aprovados:\n",
            "----------------------------\n",
            "matriculas\n",
            "M02     Bob\n",
            "M13    Bill\n",
            "M14    Cris\n",
            "Name: alunos, dtype: object\n"
          ]
        }
      ]
    },
    {
      "cell_type": "code",
      "source": [
        "# Buscas em Series\n",
        "\n",
        "has_M13 = 'M13' in students\n",
        "has_M99 = 'M99' in students\n",
        "print('Existe o rótulo \"M13\"? -> ', has_M13)\n",
        "print('Existe o rótulo \"M99\"? ->', has_M99)\n",
        "\n",
        "# testa se valor faz parte da Series\n",
        "has_bob = students.isin(['Bob'])\n",
        "print('Existe o valor \"Bob\"? -> ', has_bob)\n",
        "has_teste = students.isin(['Cris'])\n",
        "print('Existe o valor? -> ', has_teste)\n"
      ],
      "metadata": {
        "colab": {
          "base_uri": "https://localhost:8080/"
        },
        "id": "gLlsN12ImXtV",
        "outputId": "76ce57b2-b76a-4e07-cfec-c4c420bc9289"
      },
      "execution_count": null,
      "outputs": [
        {
          "output_type": "stream",
          "name": "stdout",
          "text": [
            "Existe o rótulo \"M13\"? ->  True\n",
            "Existe o rótulo \"M99\"? -> False\n",
            "Existe o valor \"Bob\"? ->  matriculas\n",
            "M02     True\n",
            "M05    False\n",
            "M13    False\n",
            "M14    False\n",
            "M19    False\n",
            "Name: alunos, dtype: bool\n",
            "Existe o valor? ->  matriculas\n",
            "M02    False\n",
            "M05    False\n",
            "M13    False\n",
            "M14     True\n",
            "M19    False\n",
            "Name: alunos, dtype: bool\n"
          ]
        }
      ]
    },
    {
      "cell_type": "code",
      "source": [
        "# Inserindo, Alterando e Removendo elementos de Series\n",
        "\n",
        "print('Series original')\n",
        "print(students)\n",
        "\n",
        "# Insere o aluno de matrícula M55, Rakesh\n",
        "students['M55'] = 'Rakesh'\n",
        "print(students)\n",
        "\n",
        "# Alterar os nomes Bill, Cris e Jimi para Billy, Cristy e Jimy\n",
        "students['M13'] = 'Billy'\n",
        "students[['M14', 'M19']] = 'Cristy', 'Jimy'\n",
        "\n",
        "print(students)\n",
        "\n",
        "# Remove o aluno de mastrícula M01 (Bob)\n",
        "students = students.drop('M02')\n",
        "print(students)"
      ],
      "metadata": {
        "colab": {
          "base_uri": "https://localhost:8080/"
        },
        "id": "1CnhlAKxnxx4",
        "outputId": "2ec77488-2762-4bac-cba4-1330f9bca284"
      },
      "execution_count": null,
      "outputs": [
        {
          "output_type": "stream",
          "name": "stdout",
          "text": [
            "Series original\n",
            "matriculas\n",
            "M02       Bob\n",
            "M05     Dayse\n",
            "M13     Billy\n",
            "M14      Cris\n",
            "M19      Jimi\n",
            "M55    Rakesh\n",
            "Name: alunos, dtype: object\n",
            "matriculas\n",
            "M02       Bob\n",
            "M05     Dayse\n",
            "M13     Billy\n",
            "M14      Cris\n",
            "M19      Jimi\n",
            "M55    Rakesh\n",
            "Name: alunos, dtype: object\n",
            "matriculas\n",
            "M02       Bob\n",
            "M05     Dayse\n",
            "M13     Billy\n",
            "M14    Cristy\n",
            "M19      Jimy\n",
            "M55    Rakesh\n",
            "Name: alunos, dtype: object\n",
            "matriculas\n",
            "M05     Dayse\n",
            "M13     Billy\n",
            "M14    Cristy\n",
            "M19      Jimy\n",
            "M55    Rakesh\n",
            "Name: alunos, dtype: object\n"
          ]
        }
      ]
    },
    {
      "cell_type": "code",
      "source": [
        "# Mudando o índice da Series\n",
        "\n",
        "students = pd.Series({'M02': 'Bob', 'M05': 'Dayse', 'M13': 'Bill', 'M14': 'Cris', 'M19': 'Jimi'})\n",
        "print(students)\n",
        "\n",
        "students.index = ['M01', 'M02', 'M03', 'M04', 'M05']\n",
        "print(students)\n"
      ],
      "metadata": {
        "colab": {
          "base_uri": "https://localhost:8080/"
        },
        "id": "Xe4aKw3ZrizN",
        "outputId": "08ccff63-364d-46dc-c0cd-d3f2744a3882"
      },
      "execution_count": null,
      "outputs": [
        {
          "output_type": "stream",
          "name": "stdout",
          "text": [
            "M02      Bob\n",
            "M05    Dayse\n",
            "M13     Bill\n",
            "M14     Cris\n",
            "M19     Jimi\n",
            "dtype: object\n",
            "M01      Bob\n",
            "M02    Dayse\n",
            "M03     Bill\n",
            "M04     Cris\n",
            "M05     Jimi\n",
            "dtype: object\n"
          ]
        }
      ]
    },
    {
      "cell_type": "code",
      "source": [
        "# Iteração\n",
        "for student in students: print(student)\n",
        "\n",
        "for position in students.index: print(position)"
      ],
      "metadata": {
        "colab": {
          "base_uri": "https://localhost:8080/"
        },
        "id": "nRJa4kQGsSBz",
        "outputId": "694dff46-0cf0-4f72-8402-723c4afc9998"
      },
      "execution_count": null,
      "outputs": [
        {
          "output_type": "stream",
          "name": "stdout",
          "text": [
            "Bob\n",
            "Dayse\n",
            "Bill\n",
            "Cris\n",
            "Jimi\n",
            "M01\n",
            "M02\n",
            "M03\n",
            "M04\n",
            "M05\n"
          ]
        }
      ]
    },
    {
      "cell_type": "code",
      "source": [
        "# Operações aritméticas com computação vetorizada\n",
        "import pandas as pd\n",
        "import numpy as np\n",
        "\n",
        "# cria as Series s1 e s2\n",
        "s1 = pd.Series([2,4,6])\n",
        "s2 = pd.Series([1,3,5])\n",
        "\n",
        "print('s1: ')\n",
        "print(s1)\n",
        "print('s2: ')\n",
        "print(s2)\n",
        "\n",
        "print('s1 * 2: ')\n",
        "print(s1 * 2)\n",
        "\n",
        "print('s1 + s2: ')\n",
        "print(s1 + s2)\n",
        "\n",
        "print('raiz quadrada dos elementos de s1')\n",
        "print(np.sqrt(s1))\n"
      ],
      "metadata": {
        "colab": {
          "base_uri": "https://localhost:8080/"
        },
        "id": "q8gQxm1Gs4ai",
        "outputId": "490f6e56-f582-46c8-8fb5-2949963890e5"
      },
      "execution_count": null,
      "outputs": [
        {
          "output_type": "stream",
          "name": "stdout",
          "text": [
            "s1: \n",
            "0    2\n",
            "1    4\n",
            "2    6\n",
            "dtype: int64\n",
            "s2: \n",
            "0    1\n",
            "1    3\n",
            "2    5\n",
            "dtype: int64\n",
            "s1 * 2: \n",
            "0     4\n",
            "1     8\n",
            "2    12\n",
            "dtype: int64\n",
            "s1 + s2: \n",
            "0     3\n",
            "1     7\n",
            "2    11\n",
            "dtype: int64\n",
            "raiz quadrada dos elementos de s1\n",
            "0    1.414214\n",
            "1    2.000000\n",
            "2    2.449490\n",
            "dtype: float64\n"
          ]
        }
      ]
    },
    {
      "cell_type": "code",
      "source": [
        "# valor NaN\n",
        "\n",
        "green = pd.Series({'BR':1, 'FR':0, 'IT':1, 'UK':0})\n",
        "blue = pd.Series({'AR':1, 'BR':1, 'FR':1, 'IT':0, 'UK':1})\n",
        "total = green + blue\n",
        "print(\"Soma\")\n",
        "print(total)\n",
        "print('----------------------')\n",
        "print('isnull(total)')\n",
        "print(pd.isnull(total))\n"
      ],
      "metadata": {
        "colab": {
          "base_uri": "https://localhost:8080/"
        },
        "id": "ors_zvUb2Upy",
        "outputId": "4f66139e-1d57-4520-b0c2-fdf147434e5a"
      },
      "execution_count": null,
      "outputs": [
        {
          "output_type": "stream",
          "name": "stdout",
          "text": [
            "Soma\n",
            "AR    NaN\n",
            "BR    2.0\n",
            "FR    1.0\n",
            "IT    1.0\n",
            "UK    1.0\n",
            "dtype: float64\n",
            "----------------------\n",
            "isnull(total)\n",
            "AR     True\n",
            "BR    False\n",
            "FR    False\n",
            "IT    False\n",
            "UK    False\n",
            "dtype: bool\n"
          ]
        }
      ]
    },
    {
      "cell_type": "code",
      "source": [
        "# Índices datetime\n",
        "\n",
        "#(1) - cria uma série temporal\n",
        "days = ['10/02/2019', '11/02/2019','12/02/2019', '13/02/2019', '14/02/2019', '15/02/2019']\n",
        "temp_max = [31,35,34,28,27,27]\n",
        "serie_temporal = pd.Series(temp_max, index=days)\n",
        "\n",
        "#(2) - converte o tipo do índice para datetime e imprime a série\n",
        "serie_temporal.index = pd.to_datetime(serie_temporal.index, format = '%d/%m/%Y')\n",
        "print(serie_temporal)"
      ],
      "metadata": {
        "colab": {
          "base_uri": "https://localhost:8080/"
        },
        "id": "zs3l8cMd4o4B",
        "outputId": "855bfab2-47c1-4197-88fd-d42b60c15489"
      },
      "execution_count": null,
      "outputs": [
        {
          "output_type": "stream",
          "name": "stdout",
          "text": [
            "2019-02-10    31\n",
            "2019-02-11    35\n",
            "2019-02-12    34\n",
            "2019-02-13    28\n",
            "2019-02-14    27\n",
            "2019-02-15    27\n",
            "dtype: int64\n"
          ]
        }
      ]
    },
    {
      "cell_type": "code",
      "source": [
        "# Indexação hierarquica\n",
        "money = ['Peso', 'Real', 'Euro', 'Euro', 'Libra']\n",
        "countries = [['América', 'América', 'Europa', 'Europa', 'Europa'],\n",
        "             ['AR', 'BR', 'FR', 'IT', 'UK']]\n",
        "lst_countries = pd.Series(money, index=countries)\n",
        "print(lst_countries) # imprime toda a lista\n",
        "print('--------------------')\n",
        "print(lst_countries['América']) # (AR: Peso, BR: Real)\n",
        "print('--------------------')\n",
        "print(lst_countries[:,'IT']) # (Europa: Euro)\n",
        "print('--------------------')\n",
        "print(lst_countries['Europa', 'IT']) # Euro"
      ],
      "metadata": {
        "colab": {
          "base_uri": "https://localhost:8080/"
        },
        "id": "AJ0pazcX7DzD",
        "outputId": "1c07385f-7aaa-4b45-8021-bfa7044e1f05"
      },
      "execution_count": null,
      "outputs": [
        {
          "output_type": "stream",
          "name": "stdout",
          "text": [
            "América  AR     Peso\n",
            "         BR     Real\n",
            "Europa   FR     Euro\n",
            "         IT     Euro\n",
            "         UK    Libra\n",
            "dtype: object\n",
            "--------------------\n",
            "AR    Peso\n",
            "BR    Real\n",
            "dtype: object\n",
            "--------------------\n",
            "Europa    Euro\n",
            "dtype: object\n",
            "--------------------\n",
            "Euro\n"
          ]
        }
      ]
    }
  ]
}